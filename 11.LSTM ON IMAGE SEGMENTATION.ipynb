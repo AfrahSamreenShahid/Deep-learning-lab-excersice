{
 "cells": [
  {
   "cell_type": "code",
   "execution_count": 5,
   "metadata": {
    "_cell_guid": "e7519999-9af2-4a30-a7d5-a1c64c96a709",
    "_uuid": "9dc117193c6437aba613a104fa5f16a315c66d31"
   },
   "outputs": [
    {
     "name": "stdout",
     "output_type": "stream",
     "text": [
      "Epoch 1/10\n",
      "938/938 [==============================] - 187s 189ms/step - loss: 0.4285 - accuracy: 0.8682 - val_loss: 0.1408 - val_accuracy: 0.9605\n",
      "Epoch 2/10\n",
      "938/938 [==============================] - 174s 186ms/step - loss: 0.1178 - accuracy: 0.9660 - val_loss: 0.0909 - val_accuracy: 0.9724\n",
      "Epoch 3/10\n",
      "938/938 [==============================] - 181s 193ms/step - loss: 0.0771 - accuracy: 0.9773 - val_loss: 0.0747 - val_accuracy: 0.9772\n",
      "Epoch 4/10\n",
      "938/938 [==============================] - 168s 179ms/step - loss: 0.0633 - accuracy: 0.9813 - val_loss: 0.0704 - val_accuracy: 0.9797\n",
      "Epoch 5/10\n",
      "938/938 [==============================] - 178s 190ms/step - loss: 0.0491 - accuracy: 0.9858 - val_loss: 0.0603 - val_accuracy: 0.9817\n",
      "Epoch 6/10\n",
      "938/938 [==============================] - 177s 189ms/step - loss: 0.0399 - accuracy: 0.9880 - val_loss: 0.0526 - val_accuracy: 0.9843\n",
      "Epoch 7/10\n",
      "938/938 [==============================] - 165s 175ms/step - loss: 0.0362 - accuracy: 0.9889 - val_loss: 0.0607 - val_accuracy: 0.9818\n",
      "Epoch 8/10\n",
      "938/938 [==============================] - 158s 169ms/step - loss: 0.0308 - accuracy: 0.9908 - val_loss: 0.0413 - val_accuracy: 0.9883\n",
      "Epoch 9/10\n",
      "938/938 [==============================] - 143s 153ms/step - loss: 0.0286 - accuracy: 0.9911 - val_loss: 0.0442 - val_accuracy: 0.9865\n",
      "Epoch 10/10\n",
      "938/938 [==============================] - 531s 567ms/step - loss: 0.0237 - accuracy: 0.9930 - val_loss: 0.0400 - val_accuracy: 0.9891\n",
      "313/313 [==============================] - 8s 27ms/step - loss: 0.0400 - accuracy: 0.9891\n",
      "Test accuracy: 0.9890999794006348\n"
     ]
    }
   ],
   "source": [
    "import tensorflow as tf\n",
    "from tensorflow.keras.datasets import mnist\n",
    "from tensorflow.keras.models import Sequential\n",
    "from tensorflow.keras.layers import LSTM, Dense\n",
    "from tensorflow.keras.utils import to_categorical\n",
    "\n",
    "# Load the MNIST dataset\n",
    "(train_images, train_labels), (test_images, test_labels) = mnist.load_data()\n",
    "\n",
    "# Preprocess the data\n",
    "train_images = train_images / 255.0\n",
    "test_images = test_images / 255.0\n",
    "\n",
    "# One-hot encode the labels\n",
    "train_labels = to_categorical(train_labels)\n",
    "test_labels = to_categorical(test_labels)\n",
    "\n",
    "# Define the model\n",
    "model = Sequential()\n",
    "model.add(LSTM(128, input_shape=(28, 28), return_sequences=True))\n",
    "model.add(LSTM(64, return_sequences=True))\n",
    "model.add(LSTM(32))\n",
    "model.add(Dense(10, activation='softmax'))\n",
    "\n",
    "# Compile the model\n",
    "model.compile(optimizer='adam', loss='categorical_crossentropy', metrics=['accuracy'])\n",
    "\n",
    "# Train the model\n",
    "model.fit(train_images, train_labels, epochs=10, batch_size=64, validation_data=(test_images, test_labels))\n",
    "\n",
    "# Evaluate the model\n",
    "test_loss, test_acc = model.evaluate(test_images, test_labels)\n",
    "print(\"Test accuracy:\", test_acc)\n"
   ]
  }
 ],
 "metadata": {
  "kernelspec": {
   "display_name": "Python 3 (ipykernel)",
   "language": "python",
   "name": "python3"
  },
  "language_info": {
   "codemirror_mode": {
    "name": "ipython",
    "version": 3
   },
   "file_extension": ".py",
   "mimetype": "text/x-python",
   "name": "python",
   "nbconvert_exporter": "python",
   "pygments_lexer": "ipython3",
   "version": "3.10.9"
  }
 },
 "nbformat": 4,
 "nbformat_minor": 1
}
