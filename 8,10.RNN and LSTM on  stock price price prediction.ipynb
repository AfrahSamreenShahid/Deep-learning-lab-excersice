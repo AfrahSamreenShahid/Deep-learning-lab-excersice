{
 "cells": [
  {
   "cell_type": "code",
   "execution_count": 3,
   "id": "a7f3dc61",
   "metadata": {},
   "outputs": [
    {
     "name": "stdout",
     "output_type": "stream",
     "text": [
      "['testset.csv', 'trainset.csv']\n"
     ]
    }
   ],
   "source": [
    "import numpy as np \n",
    "import pandas as pd \n",
    "import matplotlib.pyplot as plt\n",
    "import os\n",
    "print(os.listdir(r\"C:\\Users\\afrah\\Downloads\\rnn stock price\"))\n"
   ]
  },
  {
   "cell_type": "markdown",
   "id": "5bf003ad",
   "metadata": {},
   "source": [
    "<h1> Loading Data"
   ]
  },
  {
   "cell_type": "code",
   "execution_count": 4,
   "id": "965f8370",
   "metadata": {},
   "outputs": [],
   "source": [
    "dataset_train = pd.read_csv(r\"C:\\Users\\afrah\\Downloads\\rnn stock price\\trainset.csv\")"
   ]
  },
  {
   "cell_type": "code",
   "execution_count": 5,
   "id": "2b26c8bf",
   "metadata": {},
   "outputs": [
    {
     "data": {
      "text/html": [
       "<div>\n",
       "<style scoped>\n",
       "    .dataframe tbody tr th:only-of-type {\n",
       "        vertical-align: middle;\n",
       "    }\n",
       "\n",
       "    .dataframe tbody tr th {\n",
       "        vertical-align: top;\n",
       "    }\n",
       "\n",
       "    .dataframe thead th {\n",
       "        text-align: right;\n",
       "    }\n",
       "</style>\n",
       "<table border=\"1\" class=\"dataframe\">\n",
       "  <thead>\n",
       "    <tr style=\"text-align: right;\">\n",
       "      <th></th>\n",
       "      <th>Date</th>\n",
       "      <th>Open</th>\n",
       "      <th>High</th>\n",
       "      <th>Low</th>\n",
       "      <th>Close</th>\n",
       "      <th>Adj Close</th>\n",
       "      <th>Volume</th>\n",
       "    </tr>\n",
       "  </thead>\n",
       "  <tbody>\n",
       "    <tr>\n",
       "      <th>0</th>\n",
       "      <td>2013-01-02</td>\n",
       "      <td>357.385559</td>\n",
       "      <td>361.151062</td>\n",
       "      <td>355.959839</td>\n",
       "      <td>359.288177</td>\n",
       "      <td>359.288177</td>\n",
       "      <td>5115500</td>\n",
       "    </tr>\n",
       "    <tr>\n",
       "      <th>1</th>\n",
       "      <td>2013-01-03</td>\n",
       "      <td>360.122742</td>\n",
       "      <td>363.600128</td>\n",
       "      <td>358.031342</td>\n",
       "      <td>359.496826</td>\n",
       "      <td>359.496826</td>\n",
       "      <td>4666500</td>\n",
       "    </tr>\n",
       "    <tr>\n",
       "      <th>2</th>\n",
       "      <td>2013-01-04</td>\n",
       "      <td>362.313507</td>\n",
       "      <td>368.339294</td>\n",
       "      <td>361.488861</td>\n",
       "      <td>366.600616</td>\n",
       "      <td>366.600616</td>\n",
       "      <td>5562800</td>\n",
       "    </tr>\n",
       "    <tr>\n",
       "      <th>3</th>\n",
       "      <td>2013-01-07</td>\n",
       "      <td>365.348755</td>\n",
       "      <td>367.301056</td>\n",
       "      <td>362.929504</td>\n",
       "      <td>365.001007</td>\n",
       "      <td>365.001007</td>\n",
       "      <td>3332900</td>\n",
       "    </tr>\n",
       "    <tr>\n",
       "      <th>4</th>\n",
       "      <td>2013-01-08</td>\n",
       "      <td>365.393463</td>\n",
       "      <td>365.771027</td>\n",
       "      <td>359.874359</td>\n",
       "      <td>364.280701</td>\n",
       "      <td>364.280701</td>\n",
       "      <td>3373900</td>\n",
       "    </tr>\n",
       "  </tbody>\n",
       "</table>\n",
       "</div>"
      ],
      "text/plain": [
       "         Date        Open        High         Low       Close   Adj Close  \\\n",
       "0  2013-01-02  357.385559  361.151062  355.959839  359.288177  359.288177   \n",
       "1  2013-01-03  360.122742  363.600128  358.031342  359.496826  359.496826   \n",
       "2  2013-01-04  362.313507  368.339294  361.488861  366.600616  366.600616   \n",
       "3  2013-01-07  365.348755  367.301056  362.929504  365.001007  365.001007   \n",
       "4  2013-01-08  365.393463  365.771027  359.874359  364.280701  364.280701   \n",
       "\n",
       "    Volume  \n",
       "0  5115500  \n",
       "1  4666500  \n",
       "2  5562800  \n",
       "3  3332900  \n",
       "4  3373900  "
      ]
     },
     "execution_count": 5,
     "metadata": {},
     "output_type": "execute_result"
    }
   ],
   "source": [
    "dataset_train.head()"
   ]
  },
  {
   "cell_type": "code",
   "execution_count": 6,
   "id": "cefd4fc7",
   "metadata": {},
   "outputs": [
    {
     "data": {
      "text/plain": [
       "array([[ 357.385559],\n",
       "       [ 360.122742],\n",
       "       [ 362.313507],\n",
       "       ...,\n",
       "       [1057.390015],\n",
       "       [1051.599976],\n",
       "       [1046.719971]])"
      ]
     },
     "execution_count": 6,
     "metadata": {},
     "output_type": "execute_result"
    }
   ],
   "source": [
    "train = dataset_train.loc[:, ['Open']].values #array'e çevirdik\n",
    "train"
   ]
  },
  {
   "cell_type": "markdown",
   "id": "3f2a5696",
   "metadata": {},
   "source": [
    "<h1> Feature Scaling"
   ]
  },
  {
   "cell_type": "code",
   "execution_count": 7,
   "id": "30ff3f3f",
   "metadata": {},
   "outputs": [
    {
     "data": {
      "text/plain": [
       "array([[0.01011148],\n",
       "       [0.01388614],\n",
       "       [0.01690727],\n",
       "       ...,\n",
       "       [0.97543954],\n",
       "       [0.9674549 ],\n",
       "       [0.96072522]])"
      ]
     },
     "execution_count": 7,
     "metadata": {},
     "output_type": "execute_result"
    }
   ],
   "source": [
    "from sklearn.preprocessing import MinMaxScaler \n",
    "scaler = MinMaxScaler(feature_range = (0, 1))\n",
    "train_scaled = scaler.fit_transform(train)\n",
    "train_scaled"
   ]
  },
  {
   "cell_type": "code",
   "execution_count": 8,
   "id": "03b08d31",
   "metadata": {},
   "outputs": [
    {
     "data": {
      "text/plain": [
       "[<matplotlib.lines.Line2D at 0x1a4d9d391e0>]"
      ]
     },
     "execution_count": 8,
     "metadata": {},
     "output_type": "execute_result"
    },
    {
     "data": {
      "image/png": "[encoded data removed]",
      "text/plain": [
       "<Figure size 640x480 with 1 Axes>"
      ]
     },
     "metadata": {},
     "output_type": "display_data"
    }
   ],
   "source": [
    "plt.plot(train_scaled)"
   ]
  },
  {
   "cell_type": "markdown",
   "id": "fe451e6e",
   "metadata": {},
   "source": [
    "<h1> Data Structure"
   ]
  },
  {
   "cell_type": "code",
   "execution_count": 9,
   "id": "7b25af57",
   "metadata": {},
   "outputs": [],
   "source": [
    "X_train = []\n",
    "y_train = []\n",
    "timesteps = 50\n",
    "\n",
    "for i in range(timesteps, 1250):\n",
    "    X_train.append(train_scaled[i - timesteps:i, 0])\n",
    "    y_train.append(train_scaled[i, 0])\n",
    "    \n",
    "X_train, y_train = np.array(X_train), np.array(y_train)"
   ]
  },
  {
   "cell_type": "markdown",
   "id": "803589cf",
   "metadata": {},
   "source": [
    "<h1> Reshape"
   ]
  },
  {
   "cell_type": "code",
   "execution_count": 10,
   "id": "665a348d",
   "metadata": {},
   "outputs": [],
   "source": [
    "X_train = np.reshape(X_train, (X_train.shape[0], X_train.shape[1], 1))"
   ]
  },
  {
   "cell_type": "markdown",
   "id": "a1e20295",
   "metadata": {},
   "source": [
    "<h1> RNN MOdel"
   ]
  },
  {
   "cell_type": "code",
   "execution_count": 11,
   "id": "ff6d9df9",
   "metadata": {},
   "outputs": [
    {
     "name": "stdout",
     "output_type": "stream",
     "text": [
      "Epoch 1/100\n",
      "38/38 [==============================] - 41s 132ms/step - loss: 0.4422\n",
      "Epoch 2/100\n",
      "38/38 [==============================] - 5s 126ms/step - loss: 0.3303\n",
      "Epoch 3/100\n",
      "38/38 [==============================] - 4s 119ms/step - loss: 0.2338\n",
      "Epoch 4/100\n",
      "38/38 [==============================] - 5s 123ms/step - loss: 0.1994\n",
      "Epoch 5/100\n",
      "38/38 [==============================] - 5s 125ms/step - loss: 0.1542\n",
      "Epoch 6/100\n",
      "38/38 [==============================] - 5s 120ms/step - loss: 0.1179\n",
      "Epoch 7/100\n",
      "38/38 [==============================] - 4s 116ms/step - loss: 0.1038\n",
      "Epoch 8/100\n",
      "38/38 [==============================] - 5s 127ms/step - loss: 0.0749\n",
      "Epoch 9/100\n",
      "38/38 [==============================] - 5s 134ms/step - loss: 0.0596\n",
      "Epoch 10/100\n",
      "38/38 [==============================] - 5s 131ms/step - loss: 0.0580\n",
      "Epoch 11/100\n",
      "38/38 [==============================] - 5s 133ms/step - loss: 0.0530\n",
      "Epoch 12/100\n",
      "38/38 [==============================] - 4s 117ms/step - loss: 0.0381\n",
      "Epoch 13/100\n",
      "38/38 [==============================] - 5s 122ms/step - loss: 0.0364\n",
      "Epoch 14/100\n",
      "38/38 [==============================] - 5s 129ms/step - loss: 0.0304\n",
      "Epoch 15/100\n",
      "38/38 [==============================] - 5s 127ms/step - loss: 0.0281\n",
      "Epoch 16/100\n",
      "38/38 [==============================] - 5s 121ms/step - loss: 0.0234\n",
      "Epoch 17/100\n",
      "38/38 [==============================] - 5s 126ms/step - loss: 0.0213\n",
      "Epoch 18/100\n",
      "38/38 [==============================] - 5s 139ms/step - loss: 0.0209\n",
      "Epoch 19/100\n",
      "38/38 [==============================] - 5s 128ms/step - loss: 0.0186\n",
      "Epoch 20/100\n",
      "38/38 [==============================] - 5s 124ms/step - loss: 0.0159\n",
      "Epoch 21/100\n",
      "38/38 [==============================] - 5s 121ms/step - loss: 0.0133\n",
      "Epoch 22/100\n",
      "38/38 [==============================] - 4s 117ms/step - loss: 0.0143\n",
      "Epoch 23/100\n",
      "38/38 [==============================] - 5s 123ms/step - loss: 0.0123\n",
      "Epoch 24/100\n",
      "38/38 [==============================] - 5s 122ms/step - loss: 0.0117\n",
      "Epoch 25/100\n",
      "38/38 [==============================] - 5s 121ms/step - loss: 0.0103\n",
      "Epoch 26/100\n",
      "38/38 [==============================] - 4s 115ms/step - loss: 0.0096\n",
      "Epoch 27/100\n",
      "38/38 [==============================] - 5s 127ms/step - loss: 0.0083\n",
      "Epoch 28/100\n",
      "38/38 [==============================] - 5s 131ms/step - loss: 0.0076\n",
      "Epoch 29/100\n",
      "38/38 [==============================] - 5s 124ms/step - loss: 0.0077\n",
      "Epoch 30/100\n",
      "38/38 [==============================] - 5s 134ms/step - loss: 0.0075\n",
      "Epoch 31/100\n",
      "38/38 [==============================] - 5s 125ms/step - loss: 0.0065\n",
      "Epoch 32/100\n",
      "38/38 [==============================] - 5s 120ms/step - loss: 0.0063\n",
      "Epoch 33/100\n",
      "38/38 [==============================] - 5s 128ms/step - loss: 0.0062\n",
      "Epoch 34/100\n",
      "38/38 [==============================] - 5s 128ms/step - loss: 0.0063\n",
      "Epoch 35/100\n",
      "38/38 [==============================] - 5s 119ms/step - loss: 0.0062\n",
      "Epoch 36/100\n",
      "38/38 [==============================] - 5s 119ms/step - loss: 0.0061\n",
      "Epoch 37/100\n",
      "38/38 [==============================] - 5s 124ms/step - loss: 0.0062\n",
      "Epoch 38/100\n",
      "38/38 [==============================] - 5s 120ms/step - loss: 0.0052\n",
      "Epoch 39/100\n",
      "38/38 [==============================] - 5s 127ms/step - loss: 0.0051\n",
      "Epoch 40/100\n",
      "38/38 [==============================] - 5s 122ms/step - loss: 0.0047\n",
      "Epoch 41/100\n",
      "38/38 [==============================] - 4s 118ms/step - loss: 0.0052\n",
      "Epoch 42/100\n",
      "38/38 [==============================] - 5s 130ms/step - loss: 0.0040\n",
      "Epoch 43/100\n",
      "38/38 [==============================] - 5s 124ms/step - loss: 0.0043\n",
      "Epoch 44/100\n",
      "38/38 [==============================] - 4s 118ms/step - loss: 0.0044\n",
      "Epoch 45/100\n",
      "38/38 [==============================] - 5s 119ms/step - loss: 0.0046\n",
      "Epoch 46/100\n",
      "38/38 [==============================] - 5s 124ms/step - loss: 0.0040\n",
      "Epoch 47/100\n",
      "38/38 [==============================] - 5s 135ms/step - loss: 0.0044\n",
      "Epoch 48/100\n",
      "38/38 [==============================] - 5s 126ms/step - loss: 0.0038\n",
      "Epoch 49/100\n",
      "38/38 [==============================] - 5s 129ms/step - loss: 0.0040\n",
      "Epoch 50/100\n",
      "38/38 [==============================] - 5s 126ms/step - loss: 0.0037\n",
      "Epoch 51/100\n",
      "38/38 [==============================] - 4s 107ms/step - loss: 0.0034\n",
      "Epoch 52/100\n",
      "38/38 [==============================] - 4s 110ms/step - loss: 0.0033\n",
      "Epoch 53/100\n",
      "38/38 [==============================] - 5s 121ms/step - loss: 0.0036\n",
      "Epoch 54/100\n",
      "38/38 [==============================] - 5s 117ms/step - loss: 0.0033\n",
      "Epoch 55/100\n",
      "38/38 [==============================] - 5s 124ms/step - loss: 0.0029\n",
      "Epoch 56/100\n",
      "38/38 [==============================] - 5s 125ms/step - loss: 0.0031\n",
      "Epoch 57/100\n",
      "38/38 [==============================] - 5s 124ms/step - loss: 0.0034\n",
      "Epoch 58/100\n",
      "38/38 [==============================] - 5s 121ms/step - loss: 0.0031\n",
      "Epoch 59/100\n",
      "38/38 [==============================] - 5s 121ms/step - loss: 0.0030\n",
      "Epoch 60/100\n",
      "38/38 [==============================] - 5s 120ms/step - loss: 0.0028\n",
      "Epoch 61/100\n",
      "38/38 [==============================] - 5s 120ms/step - loss: 0.0027\n",
      "Epoch 62/100\n",
      "38/38 [==============================] - 5s 124ms/step - loss: 0.0027\n",
      "Epoch 63/100\n",
      "38/38 [==============================] - 5s 122ms/step - loss: 0.0027\n",
      "Epoch 64/100\n",
      "38/38 [==============================] - 5s 126ms/step - loss: 0.0027\n",
      "Epoch 65/100\n",
      "38/38 [==============================] - 5s 123ms/step - loss: 0.0024\n",
      "Epoch 66/100\n",
      "38/38 [==============================] - 5s 128ms/step - loss: 0.0025\n",
      "Epoch 67/100\n",
      "38/38 [==============================] - 5s 124ms/step - loss: 0.0025\n",
      "Epoch 68/100\n",
      "38/38 [==============================] - 5s 125ms/step - loss: 0.0025\n",
      "Epoch 69/100\n",
      "38/38 [==============================] - 5s 128ms/step - loss: 0.0024\n",
      "Epoch 70/100\n",
      "38/38 [==============================] - 5s 123ms/step - loss: 0.0022\n",
      "Epoch 71/100\n",
      "38/38 [==============================] - 5s 130ms/step - loss: 0.0020\n",
      "Epoch 72/100\n",
      "38/38 [==============================] - 5s 124ms/step - loss: 0.0024\n",
      "Epoch 73/100\n",
      "38/38 [==============================] - 5s 123ms/step - loss: 0.0023\n",
      "Epoch 74/100\n",
      "38/38 [==============================] - 5s 121ms/step - loss: 0.0021\n",
      "Epoch 75/100\n",
      "38/38 [==============================] - 5s 120ms/step - loss: 0.0020\n",
      "Epoch 76/100\n",
      "38/38 [==============================] - 5s 124ms/step - loss: 0.0021\n",
      "Epoch 77/100\n",
      "38/38 [==============================] - 5s 120ms/step - loss: 0.0023\n",
      "Epoch 78/100\n",
      "38/38 [==============================] - 5s 120ms/step - loss: 0.0019\n",
      "Epoch 79/100\n",
      "38/38 [==============================] - 5s 119ms/step - loss: 0.0022\n",
      "Epoch 80/100\n",
      "38/38 [==============================] - 5s 122ms/step - loss: 0.0021\n",
      "Epoch 81/100\n",
      "38/38 [==============================] - 5s 126ms/step - loss: 0.0020\n",
      "Epoch 82/100\n",
      "38/38 [==============================] - 5s 121ms/step - loss: 0.0017\n",
      "Epoch 83/100\n",
      "38/38 [==============================] - 5s 122ms/step - loss: 0.0018\n",
      "Epoch 84/100\n",
      "38/38 [==============================] - 5s 120ms/step - loss: 0.0019\n",
      "Epoch 85/100\n",
      "38/38 [==============================] - 5s 122ms/step - loss: 0.0020\n",
      "Epoch 86/100\n",
      "38/38 [==============================] - 5s 122ms/step - loss: 0.0021\n",
      "Epoch 87/100\n",
      "38/38 [==============================] - 5s 138ms/step - loss: 0.0021\n",
      "Epoch 88/100\n",
      "38/38 [==============================] - 5s 135ms/step - loss: 0.0017\n",
      "Epoch 89/100\n",
      "38/38 [==============================] - 5s 122ms/step - loss: 0.0019\n",
      "Epoch 90/100\n",
      "38/38 [==============================] - 5s 125ms/step - loss: 0.0018\n",
      "Epoch 91/100\n",
      "38/38 [==============================] - 5s 120ms/step - loss: 0.0017\n",
      "Epoch 92/100\n",
      "38/38 [==============================] - 5s 122ms/step - loss: 0.0018\n",
      "Epoch 93/100\n",
      "38/38 [==============================] - 5s 120ms/step - loss: 0.0017\n",
      "Epoch 94/100\n",
      "38/38 [==============================] - 5s 120ms/step - loss: 0.0016\n",
      "Epoch 95/100\n",
      "38/38 [==============================] - 5s 119ms/step - loss: 0.0018\n",
      "Epoch 96/100\n",
      "38/38 [==============================] - 5s 121ms/step - loss: 0.0017\n",
      "Epoch 97/100\n",
      "38/38 [==============================] - 4s 118ms/step - loss: 0.0018\n",
      "Epoch 98/100\n",
      "38/38 [==============================] - 5s 127ms/step - loss: 0.0016\n",
      "Epoch 99/100\n",
      "38/38 [==============================] - 5s 145ms/step - loss: 0.0017\n",
      "Epoch 100/100\n",
      "38/38 [==============================] - 5s 121ms/step - loss: 0.0018\n"
     ]
    },
    {
     "data": {
      "text/plain": [
       "<keras.callbacks.History at 0x1a4e31d6d10>"
      ]
     },
     "execution_count": 11,
     "metadata": {},
     "output_type": "execute_result"
    }
   ],
   "source": [
    "#import libraries and packages:\n",
    "from keras.models import Sequential\n",
    "from keras.layers import Dense\n",
    "from keras.layers import SimpleRNN\n",
    "from keras.layers import Dropout\n",
    "\n",
    "#Initialize RNN:\n",
    "regressor = Sequential()\n",
    "\n",
    "#Adding the first RNN layer and some Dropout regularization\n",
    "regressor.add(SimpleRNN(units = 50, activation='tanh', return_sequences=True, input_shape= (X_train.shape[1],1)))\n",
    "regressor.add(Dropout(0.2))\n",
    "\n",
    "#Adding the second RNN layer and some Dropout regularization\n",
    "regressor.add(SimpleRNN(units = 50, activation='tanh', return_sequences=True))\n",
    "regressor.add(Dropout(0.2))\n",
    "\n",
    "#Adding the third RNN layer and some Dropout regularization\n",
    "regressor.add(SimpleRNN(units = 50, activation='tanh', return_sequences=True))\n",
    "regressor.add(Dropout(0.2))\n",
    "\n",
    "#Adding the fourth RNN layer and some Dropout regularization\n",
    "regressor.add(SimpleRNN(units = 50))\n",
    "regressor.add(Dropout(0.2))\n",
    "\n",
    "#Adding the output layer\n",
    "regressor.add(Dense(units = 1))\n",
    "\n",
    "#Compile the RNN\n",
    "regressor.compile(optimizer='adam', loss='mean_squared_error')\n",
    "\n",
    "#Fitting the RNN to the Training set\n",
    "regressor.fit(X_train, y_train, epochs=100, batch_size=32)\n"
   ]
  },
  {
   "cell_type": "markdown",
   "id": "ce749c98",
   "metadata": {},
   "source": [
    "<h1>Prediction and Visualization of RNN Model"
   ]
  },
  {
   "cell_type": "code",
   "execution_count": 12,
   "id": "bd841911",
   "metadata": {},
   "outputs": [
    {
     "data": {
      "text/html": [
       "<div>\n",
       "<style scoped>\n",
       "    .dataframe tbody tr th:only-of-type {\n",
       "        vertical-align: middle;\n",
       "    }\n",
       "\n",
       "    .dataframe tbody tr th {\n",
       "        vertical-align: top;\n",
       "    }\n",
       "\n",
       "    .dataframe thead th {\n",
       "        text-align: right;\n",
       "    }\n",
       "</style>\n",
       "<table border=\"1\" class=\"dataframe\">\n",
       "  <thead>\n",
       "    <tr style=\"text-align: right;\">\n",
       "      <th></th>\n",
       "      <th>Date</th>\n",
       "      <th>Open</th>\n",
       "      <th>High</th>\n",
       "      <th>Low</th>\n",
       "      <th>Close</th>\n",
       "      <th>Adj Close</th>\n",
       "      <th>Volume</th>\n",
       "    </tr>\n",
       "  </thead>\n",
       "  <tbody>\n",
       "    <tr>\n",
       "      <th>0</th>\n",
       "      <td>2018-01-02</td>\n",
       "      <td>1048.339966</td>\n",
       "      <td>1066.939941</td>\n",
       "      <td>1045.229980</td>\n",
       "      <td>1065.000000</td>\n",
       "      <td>1065.000000</td>\n",
       "      <td>1237600</td>\n",
       "    </tr>\n",
       "    <tr>\n",
       "      <th>1</th>\n",
       "      <td>2018-01-03</td>\n",
       "      <td>1064.310059</td>\n",
       "      <td>1086.290039</td>\n",
       "      <td>1063.209961</td>\n",
       "      <td>1082.479980</td>\n",
       "      <td>1082.479980</td>\n",
       "      <td>1430200</td>\n",
       "    </tr>\n",
       "    <tr>\n",
       "      <th>2</th>\n",
       "      <td>2018-01-04</td>\n",
       "      <td>1088.000000</td>\n",
       "      <td>1093.569946</td>\n",
       "      <td>1084.001953</td>\n",
       "      <td>1086.400024</td>\n",
       "      <td>1086.400024</td>\n",
       "      <td>1004600</td>\n",
       "    </tr>\n",
       "    <tr>\n",
       "      <th>3</th>\n",
       "      <td>2018-01-05</td>\n",
       "      <td>1094.000000</td>\n",
       "      <td>1104.250000</td>\n",
       "      <td>1092.000000</td>\n",
       "      <td>1102.229980</td>\n",
       "      <td>1102.229980</td>\n",
       "      <td>1279100</td>\n",
       "    </tr>\n",
       "    <tr>\n",
       "      <th>4</th>\n",
       "      <td>2018-01-08</td>\n",
       "      <td>1102.229980</td>\n",
       "      <td>1111.270020</td>\n",
       "      <td>1101.619995</td>\n",
       "      <td>1106.939941</td>\n",
       "      <td>1106.939941</td>\n",
       "      <td>1047600</td>\n",
       "    </tr>\n",
       "  </tbody>\n",
       "</table>\n",
       "</div>"
      ],
      "text/plain": [
       "         Date         Open         High          Low        Close  \\\n",
       "0  2018-01-02  1048.339966  1066.939941  1045.229980  1065.000000   \n",
       "1  2018-01-03  1064.310059  1086.290039  1063.209961  1082.479980   \n",
       "2  2018-01-04  1088.000000  1093.569946  1084.001953  1086.400024   \n",
       "3  2018-01-05  1094.000000  1104.250000  1092.000000  1102.229980   \n",
       "4  2018-01-08  1102.229980  1111.270020  1101.619995  1106.939941   \n",
       "\n",
       "     Adj Close   Volume  \n",
       "0  1065.000000  1237600  \n",
       "1  1082.479980  1430200  \n",
       "2  1086.400024  1004600  \n",
       "3  1102.229980  1279100  \n",
       "4  1106.939941  1047600  "
      ]
     },
     "execution_count": 12,
     "metadata": {},
     "output_type": "execute_result"
    }
   ],
   "source": [
    "dataset_test = pd.read_csv(r\"C:\\Users\\afrah\\Downloads\\rnn stock price\\testset.csv\")\n",
    "dataset_test.head()"
   ]
  },
  {
   "cell_type": "code",
   "execution_count": 13,
   "id": "465bb489",
   "metadata": {},
   "outputs": [
    {
     "data": {
      "text/plain": [
       "array([[1048.339966],\n",
       "       [1064.310059],\n",
       "       [1088.      ],\n",
       "       [1094.      ],\n",
       "       [1102.22998 ],\n",
       "       [1109.400024],\n",
       "       [1097.099976],\n",
       "       [1106.300049],\n",
       "       [1102.410034],\n",
       "       [1132.51001 ],\n",
       "       [1126.219971],\n",
       "       [1131.410034],\n",
       "       [1131.829956],\n",
       "       [1137.48999 ],\n",
       "       [1159.849976],\n",
       "       [1177.329956],\n",
       "       [1172.530029],\n",
       "       [1175.079956],\n",
       "       [1176.47998 ],\n",
       "       [1167.829956],\n",
       "       [1170.569946],\n",
       "       [1162.609985],\n",
       "       [1122.      ],\n",
       "       [1090.599976],\n",
       "       [1027.180054],\n",
       "       [1081.540039],\n",
       "       [1055.410034],\n",
       "       [1017.25    ],\n",
       "       [1048.      ],\n",
       "       [1045.      ],\n",
       "       [1048.949951],\n",
       "       [1079.069946],\n",
       "       [1088.410034],\n",
       "       [1090.569946],\n",
       "       [1106.469971],\n",
       "       [1116.189941],\n",
       "       [1112.640015],\n",
       "       [1127.800049],\n",
       "       [1141.23999 ],\n",
       "       [1123.030029],\n",
       "       [1107.869995],\n",
       "       [1053.079956],\n",
       "       [1075.140015],\n",
       "       [1099.219971],\n",
       "       [1089.189941],\n",
       "       [1115.319946],\n",
       "       [1136.      ],\n",
       "       [1163.849976],\n",
       "       [1170.      ],\n",
       "       [1145.209961],\n",
       "       [1149.959961],\n",
       "       [1154.140015],\n",
       "       [1120.01001 ],\n",
       "       [1099.      ],\n",
       "       [1092.73999 ],\n",
       "       [1081.880005],\n",
       "       [1047.030029],\n",
       "       [1046.      ],\n",
       "       [1063.      ],\n",
       "       [ 998.      ],\n",
       "       [1011.630005],\n",
       "       [1022.820007],\n",
       "       [1013.909973],\n",
       "       [ 993.409973],\n",
       "       [1041.329956],\n",
       "       [1020.      ],\n",
       "       [1016.799988],\n",
       "       [1026.439941],\n",
       "       [1027.98999 ],\n",
       "       [1025.040039],\n",
       "       [1040.880005],\n",
       "       [1037.      ],\n",
       "       [1051.369995],\n",
       "       [1077.430054],\n",
       "       [1069.400024],\n",
       "       [1082.      ],\n",
       "       [1077.859985],\n",
       "       [1052.      ],\n",
       "       [1025.52002 ],\n",
       "       [1029.51001 ],\n",
       "       [1046.      ],\n",
       "       [1030.01001 ],\n",
       "       [1013.659973],\n",
       "       [1028.099976],\n",
       "       [1019.      ],\n",
       "       [1016.900024],\n",
       "       [1049.22998 ],\n",
       "       [1058.540039],\n",
       "       [1058.099976],\n",
       "       [1086.030029],\n",
       "       [1093.599976],\n",
       "       [1100.      ],\n",
       "       [1090.      ],\n",
       "       [1077.310059],\n",
       "       [1079.890015],\n",
       "       [1061.859985],\n",
       "       [1074.060059],\n",
       "       [1083.560059],\n",
       "       [1065.130005],\n",
       "       [1079.      ],\n",
       "       [1079.02002 ],\n",
       "       [1064.890015],\n",
       "       [1063.030029],\n",
       "       [1067.560059],\n",
       "       [1099.349976],\n",
       "       [1122.329956],\n",
       "       [1140.98999 ],\n",
       "       [1142.170044],\n",
       "       [1131.319946],\n",
       "       [1118.180054],\n",
       "       [1118.599976],\n",
       "       [1131.069946],\n",
       "       [1141.119995],\n",
       "       [1143.849976],\n",
       "       [1148.859985],\n",
       "       [1143.650024],\n",
       "       [1158.5     ],\n",
       "       [1175.310059],\n",
       "       [1174.849976],\n",
       "       [1159.140015],\n",
       "       [1143.599976],\n",
       "       [1128.      ],\n",
       "       [1121.339966],\n",
       "       [1102.089966],\n",
       "       [1120.      ]])"
      ]
     },
     "execution_count": 13,
     "metadata": {},
     "output_type": "execute_result"
    }
   ],
   "source": [
    "real_stock_price = dataset_test.loc[:, ['Open']].values\n",
    "real_stock_price"
   ]
  },
  {
   "cell_type": "code",
   "execution_count": 14,
   "id": "1d5c6f89",
   "metadata": {},
   "outputs": [
    {
     "data": {
      "text/plain": [
       "array([[0.87699047],\n",
       "       [0.88173435],\n",
       "       [0.88184469],\n",
       "       [0.85492597],\n",
       "       [0.85267815],\n",
       "       [0.86871629],\n",
       "       [0.90897021],\n",
       "       [0.91560335],\n",
       "       [0.91728573],\n",
       "       [0.92003007],\n",
       "       [0.92630465],\n",
       "       [0.92678727],\n",
       "       [0.93627502],\n",
       "       [0.93390312],\n",
       "       [0.93838498],\n",
       "       [0.94317017],\n",
       "       [0.93278603],\n",
       "       [0.9285938 ],\n",
       "       [0.92744927],\n",
       "       [0.92278813],\n",
       "       [0.92735273],\n",
       "       [0.94319778],\n",
       "       [0.9242361 ],\n",
       "       [0.92844213],\n",
       "       [0.94456301],\n",
       "       [0.94576276],\n",
       "       [0.95145817],\n",
       "       [0.9722677 ],\n",
       "       [0.95515404],\n",
       "       [0.92714584],\n",
       "       [0.91808559],\n",
       "       [0.91375541],\n",
       "       [0.89069805],\n",
       "       [0.89836546],\n",
       "       [0.92447051],\n",
       "       [0.94799678],\n",
       "       [0.94525252],\n",
       "       [0.95094793],\n",
       "       [0.95989783],\n",
       "       [0.95835332],\n",
       "       [0.97160579],\n",
       "       [0.98742324],\n",
       "       [1.        ],\n",
       "       [0.99528382],\n",
       "       [0.98586493],\n",
       "       [0.9805695 ],\n",
       "       [0.97637719],\n",
       "       [0.97543954],\n",
       "       [0.9674549 ],\n",
       "       [0.96072522],\n",
       "       [0.96295924],\n",
       "       [0.9849825 ],\n",
       "       [1.01765167],\n",
       "       [1.02592586],\n",
       "       [1.03727526],\n",
       "       [1.04716297],\n",
       "       [1.03020082],\n",
       "       [1.04288801],\n",
       "       [1.03752356],\n",
       "       [1.07903237],\n",
       "       [1.0703582 ],\n",
       "       [1.07751546],\n",
       "       [1.07809455],\n",
       "       [1.08589991],\n",
       "       [1.11673503],\n",
       "       [1.14084047],\n",
       "       [1.13422122],\n",
       "       [1.13773765],\n",
       "       [1.13966833],\n",
       "       [1.12773968],\n",
       "       [1.13151821],\n",
       "       [1.12054117],\n",
       "       [1.06453873],\n",
       "       [1.02123712],\n",
       "       [0.93377906],\n",
       "       [1.00874318],\n",
       "       [0.97270908],\n",
       "       [0.9200852 ],\n",
       "       [0.96249042],\n",
       "       [0.95835332],\n",
       "       [0.96380043],\n",
       "       [1.00533684],\n",
       "       [1.01821712],\n",
       "       [1.0211957 ],\n",
       "       [1.04312234],\n",
       "       [1.05652648],\n",
       "       [1.05163102],\n",
       "       [1.07253718],\n",
       "       [1.09107128],\n",
       "       [1.06595918],\n",
       "       [1.04505301],\n",
       "       [0.96949583],\n",
       "       [0.99991735],\n",
       "       [1.03312436],\n",
       "       [1.01929263],\n",
       "       [1.05532673],\n",
       "       [1.08384517],\n",
       "       [1.12225116],\n",
       "       [1.13073224],\n",
       "       [1.096546  ],\n",
       "       [1.10309639],\n",
       "       [1.10886082],\n",
       "       [1.06179447],\n",
       "       [1.03282101],\n",
       "       [1.02418826],\n",
       "       [1.009212  ],\n",
       "       [0.9611528 ],\n",
       "       [0.95973235],\n",
       "       [0.98317589],\n",
       "       [0.89353885],\n",
       "       [0.91233505],\n",
       "       [0.92776642],\n",
       "       [0.9154792 ],\n",
       "       [0.88720906],\n",
       "       [0.95329222],\n",
       "       [0.92387754],\n",
       "       [0.91946462],\n",
       "       [0.93275842],\n",
       "       [0.93489599],\n",
       "       [0.93082791],\n",
       "       [0.95267172],\n",
       "       [0.94732107],\n",
       "       [0.96713774],\n",
       "       [1.00307538],\n",
       "       [0.99200172],\n",
       "       [1.00937748],\n",
       "       [1.00366827],\n",
       "       [0.96800654],\n",
       "       [0.93148982],\n",
       "       [0.93699214],\n",
       "       [0.95973235],\n",
       "       [0.93768166],\n",
       "       [0.91513444],\n",
       "       [0.93504766],\n",
       "       [0.92249851],\n",
       "       [0.91960258],\n",
       "       [0.9641866 ],\n",
       "       [0.97702546],\n",
       "       [0.9764186 ],\n",
       "       [1.01493502],\n",
       "       [1.02537421],\n",
       "       [1.03420004],\n",
       "       [1.02040973],\n",
       "       [1.0029099 ],\n",
       "       [1.00646775],\n",
       "       [0.98160377],\n",
       "       [0.99842805],\n",
       "       [1.01152885],\n",
       "       [0.98611323],\n",
       "       [1.00524039],\n",
       "       [1.00526799],\n",
       "       [0.98578228],\n",
       "       [0.9832173 ],\n",
       "       [0.98946435],\n",
       "       [1.03330364],\n",
       "       [1.06499375],\n",
       "       [1.09072652],\n",
       "       [1.09235385],\n",
       "       [1.07739123],\n",
       "       [1.05927091],\n",
       "       [1.05984999],\n",
       "       [1.07704647],\n",
       "       [1.0909058 ],\n",
       "       [1.09467053],\n",
       "       [1.10157949],\n",
       "       [1.09439479],\n",
       "       [1.11487338],\n",
       "       [1.13805497],\n",
       "       [1.1374205 ],\n",
       "       [1.11575598],\n",
       "       [1.09432578],\n",
       "       [1.07281292],\n",
       "       [1.06362853],\n",
       "       [1.03708217],\n",
       "       [1.06178067]])"
      ]
     },
     "execution_count": 14,
     "metadata": {},
     "output_type": "execute_result"
    }
   ],
   "source": [
    "#Getting the predicted stock price\n",
    "dataset_total = pd.concat((dataset_train['Open'], dataset_test['Open']), axis=0)\n",
    "inputs = dataset_total[len(dataset_total)-len(dataset_test) - timesteps:].values.reshape(-1,1)\n",
    "inputs = scaler.transform(inputs) #minmax scaler\n",
    "inputs"
   ]
  },
  {
   "cell_type": "code",
   "execution_count": 15,
   "id": "2a94057e",
   "metadata": {},
   "outputs": [
    {
     "name": "stdout",
     "output_type": "stream",
     "text": [
      "1/1 [==============================] - 4s 4s/step\n"
     ]
    }
   ],
   "source": [
    "X_test = []\n",
    "for i in range(timesteps, 70):\n",
    "    X_test.append(inputs[i-timesteps:i,0])\n",
    "X_test = np.array(X_test)\n",
    "X_test = np.reshape(X_test, (X_test.shape[0], X_test.shape[1], 1))\n",
    "predicted_stock_price = regressor.predict(X_test)\n",
    "predicted_stock_price = scaler.inverse_transform(predicted_stock_price)"
   ]
  },
  {
   "cell_type": "code",
   "execution_count": 16,
   "id": "1afcfd29",
   "metadata": {},
   "outputs": [
    {
     "data": {
      "image/png": "[encoded data removed]",
      "text/plain": [
       "<Figure size 640x480 with 1 Axes>"
      ]
     },
     "metadata": {},
     "output_type": "display_data"
    }
   ],
   "source": [
    "plt.plot(real_stock_price, color='red', label='Real Google Stock Price')\n",
    "plt.plot(predicted_stock_price, color='blue', label='Predicted Google Stock Price')\n",
    "plt.title('Google Stock Price Prediction')\n",
    "plt.xlabel('Time')\n",
    "plt.ylabel('Google Stock Price')\n",
    "plt.legend()\n",
    "plt.show()"
   ]
  },
  {
   "cell_type": "markdown",
   "id": "5391bf99",
   "metadata": {},
   "source": [
    "<h1>Implementing LSTM with KERAS\n",
    "   Loading Data "
   ]
  },
  {
   "cell_type": "code",
   "execution_count": 17,
   "id": "0c8797a2",
   "metadata": {},
   "outputs": [
    {
     "data": {
      "text/html": [
       "<div>\n",
       "<style scoped>\n",
       "    .dataframe tbody tr th:only-of-type {\n",
       "        vertical-align: middle;\n",
       "    }\n",
       "\n",
       "    .dataframe tbody tr th {\n",
       "        vertical-align: top;\n",
       "    }\n",
       "\n",
       "    .dataframe thead th {\n",
       "        text-align: right;\n",
       "    }\n",
       "</style>\n",
       "<table border=\"1\" class=\"dataframe\">\n",
       "  <thead>\n",
       "    <tr style=\"text-align: right;\">\n",
       "      <th></th>\n",
       "      <th>Month</th>\n",
       "      <th>International airline passengers: monthly totals in thousands. Jan 49 ? Dec 60</th>\n",
       "    </tr>\n",
       "  </thead>\n",
       "  <tbody>\n",
       "    <tr>\n",
       "      <th>0</th>\n",
       "      <td>1949-01</td>\n",
       "      <td>112.0</td>\n",
       "    </tr>\n",
       "    <tr>\n",
       "      <th>1</th>\n",
       "      <td>1949-02</td>\n",
       "      <td>118.0</td>\n",
       "    </tr>\n",
       "    <tr>\n",
       "      <th>2</th>\n",
       "      <td>1949-03</td>\n",
       "      <td>132.0</td>\n",
       "    </tr>\n",
       "    <tr>\n",
       "      <th>3</th>\n",
       "      <td>1949-04</td>\n",
       "      <td>129.0</td>\n",
       "    </tr>\n",
       "    <tr>\n",
       "      <th>4</th>\n",
       "      <td>1949-05</td>\n",
       "      <td>121.0</td>\n",
       "    </tr>\n",
       "  </tbody>\n",
       "</table>\n",
       "</div>"
      ],
      "text/plain": [
       "     Month  \\\n",
       "0  1949-01   \n",
       "1  1949-02   \n",
       "2  1949-03   \n",
       "3  1949-04   \n",
       "4  1949-05   \n",
       "\n",
       "   International airline passengers: monthly totals in thousands. Jan 49 ? Dec 60  \n",
       "0                                              112.0                               \n",
       "1                                              118.0                               \n",
       "2                                              132.0                               \n",
       "3                                              129.0                               \n",
       "4                                              121.0                               "
      ]
     },
     "execution_count": 17,
     "metadata": {},
     "output_type": "execute_result"
    }
   ],
   "source": [
    "data = pd.read_csv(r\"C:\\Users\\afrah\\Downloads\\rnn stock price\\international-airline-passengers.csv\")\n",
    "data.head()"
   ]
  },
  {
   "cell_type": "code",
   "execution_count": 18,
   "id": "142e0657",
   "metadata": {},
   "outputs": [
    {
     "data": {
      "image/png": "[encoded data removed]",
      "text/plain": [
       "<Figure size 640x480 with 1 Axes>"
      ]
     },
     "metadata": {},
     "output_type": "display_data"
    }
   ],
   "source": [
    "dataset = data.iloc[:, 1].values\n",
    "plt.plot(dataset)\n",
    "plt.xlabel('time')\n",
    "plt.ylabel('number of passengers (in thousands)')\n",
    "plt.title('Passengers')\n",
    "plt.show()"
   ]
  },
  {
   "cell_type": "markdown",
   "id": "c399c642",
   "metadata": {},
   "source": [
    "<h1> Reshape"
   ]
  },
  {
   "cell_type": "code",
   "execution_count": 19,
   "id": "3639b684",
   "metadata": {},
   "outputs": [
    {
     "data": {
      "text/plain": [
       "(145, 1)"
      ]
     },
     "execution_count": 19,
     "metadata": {},
     "output_type": "execute_result"
    }
   ],
   "source": [
    "dataset = dataset.reshape(-1,1) \n",
    "dataset = dataset.astype('float32')\n",
    "dataset.shape"
   ]
  },
  {
   "cell_type": "markdown",
   "id": "563f1b2c",
   "metadata": {},
   "source": [
    "<h1> Scaling:"
   ]
  },
  {
   "cell_type": "code",
   "execution_count": 20,
   "id": "d4f6cfa6",
   "metadata": {},
   "outputs": [],
   "source": [
    "scaler = MinMaxScaler(feature_range= (0,1))\n",
    "dataset = scaler.fit_transform(dataset)"
   ]
  },
  {
   "cell_type": "markdown",
   "id": "e5931f41",
   "metadata": {},
   "source": [
    "<h1>Train Test Split:"
   ]
  },
  {
   "cell_type": "code",
   "execution_count": 21,
   "id": "a111b5b2",
   "metadata": {},
   "outputs": [
    {
     "name": "stdout",
     "output_type": "stream",
     "text": [
      "train size: 72, test size: 73\n"
     ]
    }
   ],
   "source": [
    "train_size = int(len(dataset)*0.5)\n",
    "test_size = len(dataset)- train_size\n",
    "\n",
    "train = dataset[0:train_size, :]\n",
    "test = dataset[train_size:len(dataset), :]\n",
    "\n",
    "print('train size: {}, test size: {}'.format(len(train), len(test)))"
   ]
  },
  {
   "cell_type": "code",
   "execution_count": 22,
   "id": "c2a7038d",
   "metadata": {},
   "outputs": [],
   "source": [
    "dataX = []\n",
    "datay = []\n",
    "timestemp = 10\n",
    "\n",
    "for i in range(len(train)- timestemp -1):\n",
    "    a = train[i:(i+timestemp), 0]\n",
    "    dataX.append(a)\n",
    "    datay.append(train[i + timestemp, 0])\n",
    "\n",
    "    \n",
    "trainX, trainy = np.array(dataX), np.array(datay)"
   ]
  },
  {
   "cell_type": "code",
   "execution_count": 23,
   "id": "6d480de7",
   "metadata": {},
   "outputs": [],
   "source": [
    "dataX = []\n",
    "datay = []\n",
    "for i in range(len(test)- timestemp -1):\n",
    "    a = test[i:(i+timestemp), 0]\n",
    "    dataX.append(a)\n",
    "    datay.append(test[i + timestemp, 0])\n",
    "\n",
    "    \n",
    "testX, testy = np.array(dataX), np.array(datay)"
   ]
  },
  {
   "cell_type": "code",
   "execution_count": 24,
   "id": "08ce0a07",
   "metadata": {},
   "outputs": [
    {
     "data": {
      "text/plain": [
       "(61, 10)"
      ]
     },
     "execution_count": 24,
     "metadata": {},
     "output_type": "execute_result"
    }
   ],
   "source": [
    "trainX.shape"
   ]
  },
  {
   "cell_type": "code",
   "execution_count": 25,
   "id": "693085f1",
   "metadata": {},
   "outputs": [],
   "source": [
    "trainX = np.reshape(trainX, (trainX.shape[0],1,  trainX.shape[1]))\n",
    "testX = np.reshape(testX, (testX.shape[0],1,  testX.shape[1]))"
   ]
  },
  {
   "cell_type": "code",
   "execution_count": 26,
   "id": "c77b5f15",
   "metadata": {},
   "outputs": [
    {
     "data": {
      "text/plain": [
       "(61, 1, 10)"
      ]
     },
     "execution_count": 26,
     "metadata": {},
     "output_type": "execute_result"
    }
   ],
   "source": [
    "trainX.shape"
   ]
  },
  {
   "cell_type": "markdown",
   "id": "5a290b99",
   "metadata": {},
   "source": [
    "<h1> Create LSTM Model"
   ]
  },
  {
   "cell_type": "code",
   "execution_count": 27,
   "id": "abd28274",
   "metadata": {},
   "outputs": [],
   "source": [
    "from keras.models import Sequential\n",
    "from keras.layers import Dense\n",
    "from keras.layers import LSTM\n",
    "from sklearn.preprocessing import MinMaxScaler\n",
    "from sklearn.metrics import mean_squared_error"
   ]
  },
  {
   "cell_type": "code",
   "execution_count": 28,
   "id": "6246f235",
   "metadata": {},
   "outputs": [
    {
     "name": "stdout",
     "output_type": "stream",
     "text": [
      "Epoch 1/50\n",
      "61/61 [==============================] - 17s 11ms/step - loss: 0.0196\n",
      "Epoch 2/50\n",
      "61/61 [==============================] - 1s 10ms/step - loss: 0.0045\n",
      "Epoch 3/50\n",
      "61/61 [==============================] - 1s 11ms/step - loss: 0.0039\n",
      "Epoch 4/50\n",
      "61/61 [==============================] - 1s 11ms/step - loss: 0.0035\n",
      "Epoch 5/50\n",
      "61/61 [==============================] - 1s 11ms/step - loss: 0.0033\n",
      "Epoch 6/50\n",
      "61/61 [==============================] - 1s 10ms/step - loss: 0.0030\n",
      "Epoch 7/50\n",
      "61/61 [==============================] - 1s 11ms/step - loss: 0.0028\n",
      "Epoch 8/50\n",
      "61/61 [==============================] - 1s 10ms/step - loss: 0.0026\n",
      "Epoch 9/50\n",
      "61/61 [==============================] - 1s 11ms/step - loss: 0.0024\n",
      "Epoch 10/50\n",
      "61/61 [==============================] - 1s 11ms/step - loss: 0.0023\n",
      "Epoch 11/50\n",
      "61/61 [==============================] - 1s 11ms/step - loss: 0.0022\n",
      "Epoch 12/50\n",
      "61/61 [==============================] - 1s 11ms/step - loss: 0.0020\n",
      "Epoch 13/50\n",
      "61/61 [==============================] - 1s 12ms/step - loss: 0.0020\n",
      "Epoch 14/50\n",
      "61/61 [==============================] - 1s 11ms/step - loss: 0.0019\n",
      "Epoch 15/50\n",
      "61/61 [==============================] - 1s 12ms/step - loss: 0.0017\n",
      "Epoch 16/50\n",
      "61/61 [==============================] - 1s 11ms/step - loss: 0.0016\n",
      "Epoch 17/50\n",
      "61/61 [==============================] - 1s 11ms/step - loss: 0.0015\n",
      "Epoch 18/50\n",
      "61/61 [==============================] - 1s 13ms/step - loss: 0.0014\n",
      "Epoch 19/50\n",
      "61/61 [==============================] - 1s 15ms/step - loss: 0.0014\n",
      "Epoch 20/50\n",
      "61/61 [==============================] - 1s 12ms/step - loss: 0.0013\n",
      "Epoch 21/50\n",
      "61/61 [==============================] - 1s 13ms/step - loss: 0.0014\n",
      "Epoch 22/50\n",
      "61/61 [==============================] - 1s 12ms/step - loss: 0.0014\n",
      "Epoch 23/50\n",
      "61/61 [==============================] - 1s 11ms/step - loss: 0.0012\n",
      "Epoch 24/50\n",
      "61/61 [==============================] - 1s 12ms/step - loss: 0.0013\n",
      "Epoch 25/50\n",
      "61/61 [==============================] - 1s 11ms/step - loss: 0.0012\n",
      "Epoch 26/50\n",
      "61/61 [==============================] - 1s 13ms/step - loss: 0.0013\n",
      "Epoch 27/50\n",
      "61/61 [==============================] - 1s 14ms/step - loss: 0.0011\n",
      "Epoch 28/50\n",
      "61/61 [==============================] - 1s 13ms/step - loss: 0.0012\n",
      "Epoch 29/50\n",
      "61/61 [==============================] - 1s 12ms/step - loss: 0.0013\n",
      "Epoch 30/50\n",
      "61/61 [==============================] - 1s 11ms/step - loss: 0.0010\n",
      "Epoch 31/50\n",
      "61/61 [==============================] - 1s 13ms/step - loss: 0.0011\n",
      "Epoch 32/50\n",
      "61/61 [==============================] - 1s 13ms/step - loss: 0.0012\n",
      "Epoch 33/50\n",
      "61/61 [==============================] - 1s 14ms/step - loss: 0.0011\n",
      "Epoch 34/50\n",
      "61/61 [==============================] - 1s 11ms/step - loss: 0.0011\n",
      "Epoch 35/50\n",
      "61/61 [==============================] - 1s 13ms/step - loss: 0.0011\n",
      "Epoch 36/50\n",
      "61/61 [==============================] - 1s 11ms/step - loss: 0.0011\n",
      "Epoch 37/50\n",
      "61/61 [==============================] - 1s 12ms/step - loss: 0.0011\n",
      "Epoch 38/50\n",
      "61/61 [==============================] - 1s 12ms/step - loss: 0.0014\n",
      "Epoch 39/50\n",
      "61/61 [==============================] - 1s 11ms/step - loss: 0.0010\n",
      "Epoch 40/50\n",
      "61/61 [==============================] - 1s 11ms/step - loss: 0.0010\n",
      "Epoch 41/50\n",
      "61/61 [==============================] - 1s 12ms/step - loss: 0.0011\n",
      "Epoch 42/50\n",
      "61/61 [==============================] - 1s 14ms/step - loss: 0.0010\n",
      "Epoch 43/50\n",
      "61/61 [==============================] - 1s 11ms/step - loss: 0.0012\n",
      "Epoch 44/50\n",
      "61/61 [==============================] - 1s 11ms/step - loss: 0.0011\n",
      "Epoch 45/50\n",
      "61/61 [==============================] - 1s 11ms/step - loss: 0.0010\n",
      "Epoch 46/50\n",
      "61/61 [==============================] - 1s 11ms/step - loss: 0.0012\n",
      "Epoch 47/50\n",
      "61/61 [==============================] - 1s 12ms/step - loss: 0.0010\n",
      "Epoch 48/50\n",
      "61/61 [==============================] - 1s 13ms/step - loss: 0.0011\n",
      "Epoch 49/50\n",
      "61/61 [==============================] - 1s 11ms/step - loss: 0.0011\n",
      "Epoch 50/50\n",
      "61/61 [==============================] - 1s 11ms/step - loss: 9.5511e-04\n"
     ]
    },
    {
     "data": {
      "text/plain": [
       "<keras.callbacks.History at 0x1a4e8cbbfa0>"
      ]
     },
     "execution_count": 28,
     "metadata": {},
     "output_type": "execute_result"
    }
   ],
   "source": [
    "# model\n",
    "model = Sequential()\n",
    "model.add(LSTM(10, input_shape=(1, timestemp))) \n",
    "model.add(Dense(1))\n",
    "model.compile(loss='mean_squared_error', optimizer='adam')\n",
    "model.fit(trainX, trainy, epochs=50, batch_size=1)"
   ]
  },
  {
   "cell_type": "markdown",
   "id": "7ca9ec6c",
   "metadata": {},
   "source": [
    "<h1> Prediction"
   ]
  },
  {
   "cell_type": "code",
   "execution_count": 29,
   "id": "ec8a5f10",
   "metadata": {},
   "outputs": [
    {
     "name": "stdout",
     "output_type": "stream",
     "text": [
      "2/2 [==============================] - 4s 10ms/step\n",
      "2/2 [==============================] - 0s 32ms/step\n",
      "Train Score: 17.86 RMSE\n",
      "Test Score: 50.40 RMSE\n"
     ]
    }
   ],
   "source": [
    "#make predictions\n",
    "trainPredict = model.predict(trainX)\n",
    "testPredict = model.predict(testX)\n",
    "\n",
    "# invert predictions\n",
    "trainPredict = scaler.inverse_transform(trainPredict)\n",
    "trainy = scaler.inverse_transform([trainy])\n",
    "testPredict = scaler.inverse_transform(testPredict)\n",
    "testy = scaler.inverse_transform([testy])\n",
    "\n",
    "import math\n",
    "# calculate root mean squared error\n",
    "trainScore = math.sqrt(mean_squared_error(trainy[0], trainPredict[:,0]))\n",
    "print('Train Score: %.2f RMSE' % (trainScore))\n",
    "testScore = math.sqrt(mean_squared_error(testy[0], testPredict[:,0]))\n",
    "print('Test Score: %.2f RMSE' % (testScore))"
   ]
  },
  {
   "cell_type": "code",
   "execution_count": 30,
   "id": "9ed23b22",
   "metadata": {},
   "outputs": [
    {
     "data": {
      "image/png": "[encoded data removed]",
      "text/plain": [
       "<Figure size 640x480 with 1 Axes>"
      ]
     },
     "metadata": {},
     "output_type": "display_data"
    }
   ],
   "source": [
    "# shifting train\n",
    "trainPredictPlot = np.empty_like(dataset)\n",
    "trainPredictPlot[:, :] = np.nan\n",
    "trainPredictPlot[timestemp:len(trainPredict)+timestemp, :] = trainPredict\n",
    "# shifting test predictions for plotting\n",
    "testPredictPlot = np.empty_like(dataset)\n",
    "testPredictPlot[:, :] = np.nan\n",
    "testPredictPlot[len(trainPredict)+(timestemp*2)+1:len(dataset)-1, :] = testPredict\n",
    "# plot baseline and predictions\n",
    "plt.plot(scaler.inverse_transform(dataset))\n",
    "plt.plot(trainPredictPlot)\n",
    "plt.plot(testPredictPlot)\n",
    "plt.show()"
   ]
  }
 ],
 "metadata": {
  "kernelspec": {
   "display_name": "Python 3 (ipykernel)",
   "language": "python",
   "name": "python3"
  },
  "language_info": {
   "codemirror_mode": {
    "name": "ipython",
    "version": 3
   },
   "file_extension": ".py",
   "mimetype": "text/x-python",
   "name": "python",
   "nbconvert_exporter": "python",
   "pygments_lexer": "ipython3",
   "version": "3.10.9"
  }
 },
 "nbformat": 4,
 "nbformat_minor": 5
}
