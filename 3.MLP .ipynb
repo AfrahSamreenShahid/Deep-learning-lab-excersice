{
 "cells": [
  {
   "cell_type": "code",
   "execution_count": 1,
   "metadata": {},
   "outputs": [],
   "source": [
    "\n",
    "# importing modules\n",
    "import tensorflow as tf\n",
    "import numpy as np\n",
    "from tensorflow.keras.models import Sequential\n",
    "from tensorflow.keras.layers import Flatten\n",
    "from tensorflow.keras.layers import Dense\n",
    "from tensorflow.keras.layers import Activation\n",
    "import matplotlib.pyplot as plt"
   ]
  },
  {
   "cell_type": "code",
   "execution_count": 2,
   "metadata": {},
   "outputs": [],
   "source": [
    "(x_train, y_train), (x_test, y_test) = tf.keras.datasets.mnist.load_data()\n"
   ]
  },
  {
   "cell_type": "code",
   "execution_count": 3,
   "metadata": {},
   "outputs": [],
   "source": [
    "# Cast the records into float values\n",
    "x_train = x_train.astype('float32')\n",
    "x_test = x_test.astype('float32')\n",
    "  \n",
    "# normalize image pixel values by dividing \n",
    "# by 255\n",
    "gray_scale = 255\n",
    "x_train /= gray_scale\n",
    "x_test /= gray_scale"
   ]
  },
  {
   "cell_type": "code",
   "execution_count": 4,
   "metadata": {},
   "outputs": [
    {
     "name": "stdout",
     "output_type": "stream",
     "text": [
      "Feature matrix: (60000, 28, 28)\n",
      "Target matrix: (10000, 28, 28)\n",
      "Feature matrix: (60000,)\n",
      "Target matrix: (10000,)\n"
     ]
    }
   ],
   "source": [
    "print(\"Feature matrix:\", x_train.shape)\n",
    "print(\"Target matrix:\", x_test.shape)\n",
    "print(\"Feature matrix:\", y_train.shape)\n",
    "print(\"Target matrix:\", y_test.shape)"
   ]
  },
  {
   "cell_type": "code",
   "execution_count": 5,
   "metadata": {},
   "outputs": [],
   "source": [
    "model = Sequential([\n",
    "    \n",
    "    # reshape 28 row * 28 column data to 28*28 rows\n",
    "    Flatten(input_shape=(28, 28)),\n",
    "    \n",
    "      # dense layer 1\n",
    "    Dense(256, activation='sigmoid'),  \n",
    "    \n",
    "    # dense layer 2\n",
    "    Dense(128, activation='sigmoid'), \n",
    "    \n",
    "      # output layer\n",
    "    Dense(10, activation='softmax'),  \n",
    "])"
   ]
  },
  {
   "cell_type": "code",
   "execution_count": 6,
   "metadata": {},
   "outputs": [],
   "source": [
    "model.compile(optimizer='adam',\n",
    "              loss='sparse_categorical_crossentropy',\n",
    "              metrics=['accuracy'])"
   ]
  },
  {
   "cell_type": "code",
   "execution_count": 7,
   "metadata": {},
   "outputs": [
    {
     "name": "stdout",
     "output_type": "stream",
     "text": [
      "Epoch 1/10\n",
      "240/240 [==============================] - 5s 15ms/step - loss: 0.8250 - accuracy: 0.7969 - val_loss: 0.3351 - val_accuracy: 0.9089\n",
      "Epoch 2/10\n",
      "240/240 [==============================] - 3s 11ms/step - loss: 0.2959 - accuracy: 0.9163 - val_loss: 0.2397 - val_accuracy: 0.9312\n",
      "Epoch 3/10\n",
      "240/240 [==============================] - 4s 15ms/step - loss: 0.2294 - accuracy: 0.9325 - val_loss: 0.2075 - val_accuracy: 0.9408\n",
      "Epoch 4/10\n",
      "240/240 [==============================] - 4s 17ms/step - loss: 0.1890 - accuracy: 0.9448 - val_loss: 0.1773 - val_accuracy: 0.9496\n",
      "Epoch 5/10\n",
      "240/240 [==============================] - 3s 14ms/step - loss: 0.1581 - accuracy: 0.9533 - val_loss: 0.1585 - val_accuracy: 0.9542\n",
      "Epoch 6/10\n",
      "240/240 [==============================] - 4s 16ms/step - loss: 0.1348 - accuracy: 0.9605 - val_loss: 0.1375 - val_accuracy: 0.9606\n",
      "Epoch 7/10\n",
      "240/240 [==============================] - 4s 16ms/step - loss: 0.1158 - accuracy: 0.9667 - val_loss: 0.1252 - val_accuracy: 0.9646\n",
      "Epoch 8/10\n",
      "240/240 [==============================] - 4s 16ms/step - loss: 0.1008 - accuracy: 0.9708 - val_loss: 0.1180 - val_accuracy: 0.9660\n",
      "Epoch 9/10\n",
      "240/240 [==============================] - 3s 13ms/step - loss: 0.0862 - accuracy: 0.9754 - val_loss: 0.1094 - val_accuracy: 0.9679\n",
      "Epoch 10/10\n",
      "240/240 [==============================] - 3s 14ms/step - loss: 0.0753 - accuracy: 0.9787 - val_loss: 0.1024 - val_accuracy: 0.9689\n"
     ]
    },
    {
     "data": {
      "text/plain": [
       "<keras.callbacks.History at 0x1fe777e5210>"
      ]
     },
     "execution_count": 7,
     "metadata": {},
     "output_type": "execute_result"
    }
   ],
   "source": [
    "model.fit(x_train, y_train, epochs=10, \n",
    "          batch_size=200, \n",
    "          validation_split=0.2)"
   ]
  },
  {
   "cell_type": "code",
   "execution_count": 8,
   "metadata": {},
   "outputs": [
    {
     "name": "stdout",
     "output_type": "stream",
     "text": [
      "test loss, test acc: [0.09428130835294724, 0.9708999991416931]\n"
     ]
    }
   ],
   "source": [
    "results = model.evaluate(x_test,  y_test, verbose = 0)\n",
    "print('test loss, test acc:', results)"
   ]
  },
  {
   "cell_type": "code",
   "execution_count": null,
   "metadata": {},
   "outputs": [],
   "source": []
  }
 ],
 "metadata": {
  "kernelspec": {
   "display_name": "Python 3 (ipykernel)",
   "language": "python",
   "name": "python3"
  },
  "language_info": {
   "codemirror_mode": {
    "name": "ipython",
    "version": 3
   },
   "file_extension": ".py",
   "mimetype": "text/x-python",
   "name": "python",
   "nbconvert_exporter": "python",
   "pygments_lexer": "ipython3",
   "version": "3.10.9"
  }
 },
 "nbformat": 4,
 "nbformat_minor": 4
}
