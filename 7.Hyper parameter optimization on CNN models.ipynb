{
 "cells": [
  {
   "cell_type": "code",
   "execution_count": 1,
   "metadata": {
    "colab": {
     "base_uri": "https://localhost:8080/",
     "height": 1000
    },
    "id": "VNOp3POpv9BQ",
    "outputId": "090081c3-d612-43e5-adb0-f4cdc1c46112"
   },
   "outputs": [
    {
     "name": "stdout",
     "output_type": "stream",
     "text": [
      "Collecting keras-tuner\n",
      "  Downloading keras_tuner-1.3.5-py3-none-any.whl (176 kB)\n",
      "     -------------------------------------- 176.1/176.1 kB 1.3 MB/s eta 0:00:00\n",
      "Requirement already satisfied: packaging in c:\\users\\afrah\\.conda\\envs\\tensorflow_env\\lib\\site-packages (from keras-tuner) (22.0)\n",
      "Requirement already satisfied: requests in c:\\users\\afrah\\.conda\\envs\\tensorflow_env\\lib\\site-packages (from keras-tuner) (2.28.1)\n",
      "Collecting kt-legacy\n",
      "  Downloading kt_legacy-1.0.5-py3-none-any.whl (9.6 kB)\n",
      "Requirement already satisfied: charset-normalizer<3,>=2 in c:\\users\\afrah\\.conda\\envs\\tensorflow_env\\lib\\site-packages (from requests->keras-tuner) (2.0.4)\n",
      "Requirement already satisfied: urllib3<1.27,>=1.21.1 in c:\\users\\afrah\\.conda\\envs\\tensorflow_env\\lib\\site-packages (from requests->keras-tuner) (1.26.14)\n",
      "Requirement already satisfied: certifi>=2017.4.17 in c:\\users\\afrah\\.conda\\envs\\tensorflow_env\\lib\\site-packages (from requests->keras-tuner) (2023.7.22)\n",
      "Requirement already satisfied: idna<4,>=2.5 in c:\\users\\afrah\\.conda\\envs\\tensorflow_env\\lib\\site-packages (from requests->keras-tuner) (3.4)\n",
      "Installing collected packages: kt-legacy, keras-tuner\n",
      "Successfully installed keras-tuner-1.3.5 kt-legacy-1.0.5\n"
     ]
    }
   ],
   "source": [
    "!pip install keras-tuner"
   ]
  },
  {
   "cell_type": "markdown",
   "metadata": {
    "id": "Bl4FyIx5v7qe"
   },
   "source": []
  },
  {
   "cell_type": "code",
   "execution_count": 2,
   "metadata": {
    "id": "60YGxAmCx76D"
   },
   "outputs": [],
   "source": [
    "import tensorflow as tf\n",
    "from tensorflow import keras\n",
    "import numpy as np"
   ]
  },
  {
   "cell_type": "code",
   "execution_count": 3,
   "metadata": {
    "colab": {
     "base_uri": "https://localhost:8080/",
     "height": 34
    },
    "id": "DnHagjG7yCn9",
    "outputId": "524ee727-123d-484f-e290-38d3defbe699"
   },
   "outputs": [
    {
     "name": "stdout",
     "output_type": "stream",
     "text": [
      "2.12.0\n"
     ]
    }
   ],
   "source": [
    "print(tf.__version__)"
   ]
  },
  {
   "cell_type": "code",
   "execution_count": 4,
   "metadata": {
    "id": "q-YZfsFiyQ0b"
   },
   "outputs": [],
   "source": [
    "fashion_mnist=keras.datasets.fashion_mnist"
   ]
  },
  {
   "cell_type": "code",
   "execution_count": 5,
   "metadata": {
    "colab": {
     "base_uri": "https://localhost:8080/",
     "height": 151
    },
    "id": "Hu81J5Jtyp8U",
    "outputId": "fb3b836c-9c41-466f-8a99-b5389f3316ed"
   },
   "outputs": [
    {
     "name": "stdout",
     "output_type": "stream",
     "text": [
      "Downloading data from https://storage.googleapis.com/tensorflow/tf-keras-datasets/train-labels-idx1-ubyte.gz\n",
      "29515/29515 [==============================] - 0s 4us/step\n",
      "Downloading data from https://storage.googleapis.com/tensorflow/tf-keras-datasets/train-images-idx3-ubyte.gz\n",
      "26421880/26421880 [==============================] - 13s 0us/step\n",
      "Downloading data from https://storage.googleapis.com/tensorflow/tf-keras-datasets/t10k-labels-idx1-ubyte.gz\n",
      "5148/5148 [==============================] - 0s 0s/step\n",
      "Downloading data from https://storage.googleapis.com/tensorflow/tf-keras-datasets/t10k-images-idx3-ubyte.gz\n",
      "4422102/4422102 [==============================] - 2s 0us/step\n"
     ]
    }
   ],
   "source": [
    "(train_images,train_labels),(test_images,test_labels)=fashion_mnist.load_data()"
   ]
  },
  {
   "cell_type": "code",
   "execution_count": 6,
   "metadata": {
    "id": "l9LhHE81y0v_"
   },
   "outputs": [],
   "source": [
    "train_images=train_images/255.0\n",
    "test_images=test_images/255.0"
   ]
  },
  {
   "cell_type": "code",
   "execution_count": 7,
   "metadata": {
    "colab": {
     "base_uri": "https://localhost:8080/",
     "height": 34
    },
    "id": "HaTJWh1EzI_p",
    "outputId": "2eed5dcf-cb0a-4aa5-b165-63a80ce9ec17"
   },
   "outputs": [
    {
     "data": {
      "text/plain": [
       "(28, 28)"
      ]
     },
     "execution_count": 7,
     "metadata": {},
     "output_type": "execute_result"
    }
   ],
   "source": [
    "train_images[0].shape"
   ]
  },
  {
   "cell_type": "code",
   "execution_count": 8,
   "metadata": {
    "id": "oLNQjFhgzM3U"
   },
   "outputs": [],
   "source": [
    "train_images=train_images.reshape(len(train_images),28,28,1)\n",
    "test_images=test_images.reshape(len(test_images),28,28,1)"
   ]
  },
  {
   "cell_type": "code",
   "execution_count": 9,
   "metadata": {
    "id": "alNFfaFfzi6z"
   },
   "outputs": [],
   "source": [
    "def build_model(hp):\n",
    "  model = keras.Sequential([\n",
    "    keras.layers.Conv2D(\n",
    "        filters=hp.Int('conv_1_filter', min_value=32, max_value=128, step=16),\n",
    "        kernel_size=hp.Choice('conv_1_kernel', values = [3,5]),\n",
    "        activation='relu',\n",
    "        input_shape=(28,28,1)\n",
    "    ),\n",
    "    keras.layers.Conv2D(\n",
    "        filters=hp.Int('conv_2_filter', min_value=32, max_value=64, step=16),\n",
    "        kernel_size=hp.Choice('conv_2_kernel', values = [3,5]),\n",
    "        activation='relu'\n",
    "    ),\n",
    "    keras.layers.Flatten(),\n",
    "    keras.layers.Dense(\n",
    "        units=hp.Int('dense_1_units', min_value=32, max_value=128, step=16),\n",
    "        activation='relu'\n",
    "    ),\n",
    "    keras.layers.Dense(10, activation='softmax')\n",
    "  ])\n",
    "\n",
    "  model.compile(optimizer=keras.optimizers.Adam(hp.Choice('learning_rate', values=[1e-2, 1e-3])),\n",
    "              loss='sparse_categorical_crossentropy',\n",
    "              metrics=['accuracy'])\n",
    "\n",
    "  return model"
   ]
  },
  {
   "cell_type": "code",
   "execution_count": 10,
   "metadata": {
    "id": "MISah2nO0sJg"
   },
   "outputs": [
    {
     "name": "stderr",
     "output_type": "stream",
     "text": [
      "C:\\Users\\afrah\\AppData\\Local\\Temp\\ipykernel_22076\\556418634.py:1: DeprecationWarning: `import kerastuner` is deprecated, please use `import keras_tuner`.\n",
      "  from kerastuner import RandomSearch\n"
     ]
    }
   ],
   "source": [
    "from kerastuner import RandomSearch\n",
    "from kerastuner.engine.hyperparameters import HyperParameters"
   ]
  },
  {
   "cell_type": "code",
   "execution_count": 11,
   "metadata": {
    "id": "HKFxb_pI05W-"
   },
   "outputs": [],
   "source": [
    "tuner_search=RandomSearch(build_model,\n",
    "                          objective='val_accuracy',\n",
    "                          max_trials=5,directory='output',project_name=\"Mnist Fashion\")"
   ]
  },
  {
   "cell_type": "code",
   "execution_count": 12,
   "metadata": {
    "colab": {
     "base_uri": "https://localhost:8080/",
     "height": 1000
    },
    "id": "7uJRrQVI1jra",
    "outputId": "0fbd5074-ce59-4ab2-9a0d-ad765851aa76"
   },
   "outputs": [
    {
     "name": "stdout",
     "output_type": "stream",
     "text": [
      "Trial 5 Complete [00h 15m 44s]\n",
      "val_accuracy: 0.8958333134651184\n",
      "\n",
      "Best val_accuracy So Far: 0.9100000262260437\n",
      "Total elapsed time: 01h 01m 08s\n",
      "INFO:tensorflow:Oracle triggered exit\n"
     ]
    }
   ],
   "source": [
    "tuner_search.search(train_images,train_labels,epochs=3,validation_split=0.1)"
   ]
  },
  {
   "cell_type": "code",
   "execution_count": 13,
   "metadata": {
    "id": "v9in6O7E2Abd"
   },
   "outputs": [],
   "source": [
    "model=tuner_search.get_best_models(num_models=1)[0]"
   ]
  },
  {
   "cell_type": "code",
   "execution_count": 14,
   "metadata": {
    "colab": {
     "base_uri": "https://localhost:8080/",
     "height": 319
    },
    "id": "4qe6YrQV3g-s",
    "outputId": "0268fc1f-34a2-449f-ca64-a8a5137aa395"
   },
   "outputs": [
    {
     "name": "stdout",
     "output_type": "stream",
     "text": [
      "Model: \"sequential\"\n",
      "_________________________________________________________________\n",
      " Layer (type)                Output Shape              Param #   \n",
      "=================================================================\n",
      " conv2d (Conv2D)             (None, 24, 24, 64)        1664      \n",
      "                                                                 \n",
      " conv2d_1 (Conv2D)           (None, 20, 20, 48)        76848     \n",
      "                                                                 \n",
      " flatten (Flatten)           (None, 19200)             0         \n",
      "                                                                 \n",
      " dense (Dense)               (None, 112)               2150512   \n",
      "                                                                 \n",
      " dense_1 (Dense)             (None, 10)                1130      \n",
      "                                                                 \n",
      "=================================================================\n",
      "Total params: 2,230,154\n",
      "Trainable params: 2,230,154\n",
      "Non-trainable params: 0\n",
      "_________________________________________________________________\n"
     ]
    }
   ],
   "source": [
    "model.summary()"
   ]
  },
  {
   "cell_type": "code",
   "execution_count": 15,
   "metadata": {
    "colab": {
     "base_uri": "https://localhost:8080/",
     "height": 306
    },
    "id": "4ZKKr1IG3l6p",
    "outputId": "00c298b1-71ab-4070-a6a9-e62234c211be"
   },
   "outputs": [
    {
     "name": "stdout",
     "output_type": "stream",
     "text": [
      "Epoch 4/10\n",
      "1688/1688 [==============================] - 293s 172ms/step - loss: 0.1678 - accuracy: 0.9356 - val_loss: 0.2638 - val_accuracy: 0.9083\n",
      "Epoch 5/10\n",
      "1688/1688 [==============================] - 220s 130ms/step - loss: 0.1351 - accuracy: 0.9486 - val_loss: 0.2749 - val_accuracy: 0.9113\n",
      "Epoch 6/10\n",
      "1688/1688 [==============================] - 215s 127ms/step - loss: 0.1017 - accuracy: 0.9626 - val_loss: 0.2628 - val_accuracy: 0.9160\n",
      "Epoch 7/10\n",
      "1688/1688 [==============================] - 217s 129ms/step - loss: 0.0809 - accuracy: 0.9702 - val_loss: 0.3475 - val_accuracy: 0.9127\n",
      "Epoch 8/10\n",
      "1688/1688 [==============================] - 218s 129ms/step - loss: 0.0643 - accuracy: 0.9763 - val_loss: 0.3750 - val_accuracy: 0.9142\n",
      "Epoch 9/10\n",
      "1688/1688 [==============================] - 213s 126ms/step - loss: 0.0509 - accuracy: 0.9811 - val_loss: 0.3736 - val_accuracy: 0.9123\n",
      "Epoch 10/10\n",
      "1688/1688 [==============================] - 211s 125ms/step - loss: 0.0411 - accuracy: 0.9858 - val_loss: 0.5043 - val_accuracy: 0.9077\n"
     ]
    },
    {
     "data": {
      "text/plain": [
       "<keras.callbacks.History at 0x22744f05ff0>"
      ]
     },
     "execution_count": 15,
     "metadata": {},
     "output_type": "execute_result"
    }
   ],
   "source": [
    "model.fit(train_images, train_labels, epochs=10, validation_split=0.1, initial_epoch=3)"
   ]
  }
 ],
 "metadata": {
  "accelerator": "GPU",
  "colab": {
   "provenance": []
  },
  "kernelspec": {
   "display_name": "Python 3 (ipykernel)",
   "language": "python",
   "name": "python3"
  },
  "language_info": {
   "codemirror_mode": {
    "name": "ipython",
    "version": 3
   },
   "file_extension": ".py",
   "mimetype": "text/x-python",
   "name": "python",
   "nbconvert_exporter": "python",
   "pygments_lexer": "ipython3",
   "version": "3.10.9"
  }
 },
 "nbformat": 4,
 "nbformat_minor": 1
}
